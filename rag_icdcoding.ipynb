{
 "cells": [
  {
   "cell_type": "markdown",
   "metadata": {},
   "source": [
    "## RAG Chain"
   ]
  },
  {
   "cell_type": "code",
   "execution_count": 6,
   "metadata": {},
   "outputs": [],
   "source": [
    "from dotenv import load_dotenv\n",
    "from rag_icdcoding import *\n",
    "\n",
    "load_dotenv()\n",
    "icdfile_path = './icd10cm_order_2024_top100.txt'  # only first 100 rows for testing\n",
    "icd10_df = parse_icd10_description(icdfile_path)\n",
    "data = load_dfdata(icd10_df)\n",
    "vectordb = create_vectorstore(data)\n",
    "# Initialize the language model (LLM)\n",
    "llm = ChatOpenAI(model='gpt-3.5-turbo', temperature=0)\n",
    "chain_demo = extract_demo(llm, vectordb)\n",
    "chain_icd = extract_icd(llm, vectordb)\n"
   ]
  },
  {
   "cell_type": "markdown",
   "metadata": {},
   "source": [
    "## Example 1"
   ]
  },
  {
   "cell_type": "code",
   "execution_count": 4,
   "metadata": {},
   "outputs": [
    {
     "name": "stdout",
     "output_type": "stream",
     "text": [
      "Patient Name: John Doe\n",
      "Age: 44\n",
      "Based on the provided note, the related ICD codes are as follows:\n",
      "\n",
      "1. Typhoid fever: ICD-10 Code A010\n",
      "2. Salmonella enteritis: ICD-10 Code A020\n"
     ]
    }
   ],
   "source": [
    "note1 = \"\"\"\n",
    "Patient Name: John Doe1\n",
    "Date of Birth: 01/15/1980\n",
    "Visit Date: 06/11/2024\n",
    "Provider: Dr. Jane Smith\n",
    "\n",
    "Chief Complaint:\n",
    "Fever, abdominal pain, and diarrhea for five days.\n",
    "\n",
    "History of Present Illness:\n",
    "John Doe, 44, reports high fever, severe abdominal cramps, and persistent diarrhea. Symptoms began five days ago and have worsened. Denies recent travel but consumed undercooked poultry a week ago.\n",
    "\n",
    "Physical Examination:\n",
    "\n",
    "    • Temperature: 102.2°F\n",
    "    • Abdomen: Tenderness in the right lower quadrant with guarding.\n",
    "\n",
    "Assessment and Plan:\n",
    "\n",
    "    1. typhoid fever.\n",
    "    • Order blood cultures and stool tests.\n",
    "    • Start empiric antibiotic therapy with ceftriaxone.\n",
    "    2. Salmonella enteritis.\n",
    "    • Maintain hydration with oral rehydration solutions.\n",
    "    • Educate on safe food handling and proper cooking techniques.\n",
    "\n",
    "Follow-Up:\n",
    "Return in 48 hours for follow-up and test results review. Immediate return if symptoms worsen.\n",
    "\n",
    "Signature:\n",
    "Dr. Jane Smith, MD\n",
    "\n",
    "\"\"\"\n",
    "# assessment = create_chain_2(llm, note1)\n",
    "# print(assessment)\n",
    "assessment = extract_assessment(llm, note1)\n",
    "print(chain_demo.invoke(note1))\n",
    "print(chain_icd.invoke(assessment))\n"
   ]
  },
  {
   "cell_type": "markdown",
   "metadata": {},
   "source": [
    "## Example 2"
   ]
  },
  {
   "cell_type": "code",
   "execution_count": 5,
   "metadata": {},
   "outputs": [
    {
     "name": "stdout",
     "output_type": "stream",
     "text": [
      "Patient Name: John Doe\n",
      "Age: 44\n",
      "Based on the provided note, the related ICD codes are:\n",
      "1. A01 - Typhoid and paratyphoid fevers\n",
      "2. A060 - Acute amebic dysentery\n",
      "3. A0831 - Calicivirus enteritis\n"
     ]
    }
   ],
   "source": [
    "note2 = \"\"\"\n",
    "\n",
    "Patient Name: John Doe2\n",
    "Date of Visit: June 17, 2024\n",
    "\n",
    "Chief Complaint: High fever, abdominal pain, and diarrhea.\n",
    "\n",
    "History of Present Illness:\n",
    "John Doe, 45, reports a high fever for 5 days, abdominal cramps, and watery diarrhea. Also complains of fatigue and body aches.\n",
    "\n",
    "Review of Systems:\n",
    "\n",
    "\t•\tFever, chills, fatigue\n",
    "\t•\tAbdominal pain, diarrhea\n",
    "\t•\tNo cough, shortness of breath, chest pain\n",
    "\n",
    "Physical Examination:\n",
    "\n",
    "\t•\tTemp: 39.5°C, BP: 120/80, HR: 110, RR: 18\n",
    "\t•\tAppears ill, febrile\n",
    "\t•\tAbdominal tenderness, hyperactive bowel sounds\n",
    "\n",
    "Assessment:\n",
    "\n",
    "\tSuspected typhoid fever\n",
    "\tPossible acute amebic dysentery\n",
    "\tCalicivirus enteritis\n",
    "\n",
    "Plan:\n",
    "\n",
    "\t•\tTests: CBC, blood cultures, stool analysis, Widal test, PCR for viruses\n",
    "\t•\tTreatment: Rehydration, Ciprofloxacin, antipyretics, isolation\n",
    "\t•\tFollow-Up: Return in 48 hours for results review\n",
    "\n",
    "Signature:\n",
    "Dr. Jane Smith, MD\n",
    "Internal Medicine \n",
    "\"\"\" \n",
    "\n",
    "assessment = extract_assessment(llm, note2)\n",
    "print(chain_demo.invoke(note1))\n",
    "print(chain_icd.invoke(assessment))"
   ]
  }
 ],
 "metadata": {
  "kernelspec": {
   "display_name": "rag",
   "language": "python",
   "name": "python3"
  },
  "language_info": {
   "codemirror_mode": {
    "name": "ipython",
    "version": 3
   },
   "file_extension": ".py",
   "mimetype": "text/x-python",
   "name": "python",
   "nbconvert_exporter": "python",
   "pygments_lexer": "ipython3",
   "version": "3.12.3"
  }
 },
 "nbformat": 4,
 "nbformat_minor": 2
}
